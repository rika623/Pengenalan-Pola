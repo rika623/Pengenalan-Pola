{
  "nbformat": 4,
  "nbformat_minor": 0,
  "metadata": {
    "colab": {
      "provenance": []
    },
    "kernelspec": {
      "name": "python3",
      "display_name": "Python 3"
    },
    "language_info": {
      "name": "python"
    }
  },
  "cells": [
    {
      "cell_type": "markdown",
      "source": [
        "Nama : Rika Ajeng Finatih\n",
        "\n",
        "NIM : 121450036\n",
        "\n",
        "Kelas : Pengenalan Pola RA"
      ],
      "metadata": {
        "id": "S6tjBIZeuMQu"
      }
    },
    {
      "cell_type": "markdown",
      "source": [
        "# ***Mel Frequency Cepstral Coefficients* (MFCC)**"
      ],
      "metadata": {
        "id": "Yj808-AUpkIT"
      }
    },
    {
      "cell_type": "markdown",
      "source": [],
      "metadata": {
        "id": "LUh2PuJWKyB4"
      }
    },
    {
      "cell_type": "markdown",
      "source": [
        "## Import Library"
      ],
      "metadata": {
        "id": "OW7PaEu-pov1"
      }
    },
    {
      "cell_type": "code",
      "source": [
        "import numpy as np\n",
        "from scipy.fftpack import dct"
      ],
      "metadata": {
        "id": "OlKLv6PupjO4"
      },
      "execution_count": 5,
      "outputs": []
    },
    {
      "cell_type": "markdown",
      "source": [
        "## Sinyal dan Paramater"
      ],
      "metadata": {
        "id": "hc85jtmyprRd"
      }
    },
    {
      "cell_type": "code",
      "source": [
        "x = np.array([1, 2, 0, -1, -2, -1, 1, 2])  # Sinyal\n",
        "fs = 8  # Frekuensi sampling\n",
        "frame_size = 4  # Ukuran frame (4 sampel)\n",
        "frame_step = 2  # Overlap 2 sampel\n",
        "alpha = 0.95  # Pre-emphasis coefficient\n",
        "num_filters = 2  # Jumlah mel filter"
      ],
      "metadata": {
        "id": "ljyXVZs3pvkJ"
      },
      "execution_count": 6,
      "outputs": []
    },
    {
      "cell_type": "markdown",
      "source": [
        "## **Langkah 1**: Pre-emphasis"
      ],
      "metadata": {
        "id": "FckJgzG5p3EG"
      }
    },
    {
      "cell_type": "markdown",
      "source": [
        "Formula pre-emphasis:\n",
        "\n",
        "$$y[t] = x[t] - α⋅x(t−1)$$\n",
        "\n",
        "Keterangan:\n",
        "\n",
        "\n",
        "*   $y(t)$ adalah nilai sinyal pada waktu n setelah pre-emphasis.\n",
        "*   $x[t]$ adalah nilai sinyal asli pada waktu n.\n",
        "*   $x(t−1)$ adalah nilai sinyal pada waktu sebelumnya.\n",
        "*   $α$ adalah faktor pre-emphasis yang biasanya berada dalam rentang $0<α≤1$, dengan nilai $α=0.97$.\n",
        "\n"
      ],
      "metadata": {
        "id": "mOglSNDY59H4"
      }
    },
    {
      "cell_type": "code",
      "source": [
        "# Fungsi untuk menghitung pre-emphasis\n",
        "def pre_emphasis(signal, alpha):\n",
        "    return np.append(signal[0], signal[1:] - alpha * signal[:-1])\n",
        "\n",
        "pre_emphasized = pre_emphasis(x, alpha)\n",
        "\n",
        "# Cetak Output\n",
        "print(\"Pre-emphasized Signal:\", pre_emphasized)"
      ],
      "metadata": {
        "colab": {
          "base_uri": "https://localhost:8080/"
        },
        "id": "Qm2qbxWIp7IY",
        "outputId": "537dedea-ba1d-41d7-e684-6f487e736e7e"
      },
      "execution_count": 7,
      "outputs": [
        {
          "output_type": "stream",
          "name": "stdout",
          "text": [
            "Pre-emphasized Signal: [ 1.    1.05 -1.9  -1.   -1.05  0.9   1.95  1.05]\n"
          ]
        }
      ]
    },
    {
      "cell_type": "markdown",
      "source": [
        "Sehingga diperoleh nilai pre-emphasis sebagai berikut:\n",
        "\n",
        "$$y[t] = [1, 1.05, -1.9, -1, -1.05, 0.9, 1.95, 1.05]$$"
      ],
      "metadata": {
        "id": "GDuPl2J0u2lG"
      }
    },
    {
      "cell_type": "markdown",
      "source": [
        "## **Langkah 2**: Framing (Frame Blocking)"
      ],
      "metadata": {
        "id": "9sB0ZjOiqu9d"
      }
    },
    {
      "cell_type": "markdown",
      "source": [
        "Memecah sinyal kedalam sebuah segmen-segmen kecil."
      ],
      "metadata": {
        "id": "S0i0fQAvePIa"
      }
    },
    {
      "cell_type": "code",
      "source": [
        "# Fungsi untuk menghitung farming\n",
        "def framing(signal, frame_size, frame_step):\n",
        "    signal_length = len(signal)\n",
        "    num_frames = int(np.ceil((signal_length - frame_size) / frame_step)) + 1\n",
        "    pad_signal_length = num_frames * frame_step + frame_size\n",
        "    pad_signal = np.append(signal, np.zeros(pad_signal_length - signal_length))\n",
        "    frames = np.zeros((num_frames, frame_size))\n",
        "    for i in range(num_frames):\n",
        "        start_idx = i * frame_step\n",
        "        frames[i, :] = pad_signal[start_idx:start_idx + frame_size]\n",
        "    return frames\n",
        "\n",
        "frames = framing(pre_emphasized, frame_size, frame_step)\n",
        "\n",
        "# Cetak Output\n",
        "print(\"Frames:\\n\", frames)"
      ],
      "metadata": {
        "colab": {
          "base_uri": "https://localhost:8080/"
        },
        "id": "COPTXUokq11e",
        "outputId": "1a0fd13c-2b8e-4422-8ee8-488a65285f77"
      },
      "execution_count": 8,
      "outputs": [
        {
          "output_type": "stream",
          "name": "stdout",
          "text": [
            "Frames:\n",
            " [[ 1.    1.05 -1.9  -1.  ]\n",
            " [-1.9  -1.   -1.05  0.9 ]\n",
            " [-1.05  0.9   1.95  1.05]]\n"
          ]
        }
      ]
    },
    {
      "cell_type": "markdown",
      "source": [
        "Frames diperoleh dengan parameter ukuran frame 4 sampel, overlap 2 sampel, dan stride 2 sampel, sehingga hasilnya adalah sebagai berikut:\n",
        "\n",
        "\n",
        "*   Frame 1 : $[1, 1.05, -1.9, -1]$\n",
        "*   Frame 2 : $[-1.9, -1, -1.05, 0.9]$\n",
        "*   Frame 3 : $[-1.05, 0.9, 1.95, 1.05]$\n",
        "\n",
        "\n",
        "\n"
      ],
      "metadata": {
        "id": "LQYMEsv-vir_"
      }
    },
    {
      "cell_type": "markdown",
      "source": [
        "## **Langkah 3**: Windowing (Hamming)"
      ],
      "metadata": {
        "id": "MaHNMAs4rJ8C"
      }
    },
    {
      "cell_type": "markdown",
      "source": [
        "Formula Hamming:\n",
        "$$w(n) = 0.54 - 0.46 \\cdot \\cos\\left( \\frac{2 \\pi n}{N-1} \\right)\n",
        "$$\n",
        "\n",
        "Keterangan:\n",
        "\n",
        "\n",
        "\n",
        "*   $w(n)$ adalah nilai window pada indeks $𝑛$ (nilai yang akan diterapkan pada sinyal).\n",
        "*   $N$ adalah panjang window (jumlah sampel dalam window).\n",
        "*   $n$ adalah indeks sampel, dengan $𝑛\n",
        "=\n",
        "0\n",
        ",\n",
        "1\n",
        ",\n",
        "2\n",
        ",\n",
        "…\n",
        ",\n",
        "𝑁\n",
        "−\n",
        "1\n",
        "n=0,1,2,…,N−1.$\n",
        "\n",
        "\n",
        "\n",
        "Kemudian, hitung nilai windowing dengan formula sebagai berikut.\n",
        "\n",
        "$$x'(n) = x(n).w(n)$$\n",
        "\n",
        "\n"
      ],
      "metadata": {
        "id": "xuZlNp6y7rX1"
      }
    },
    {
      "cell_type": "code",
      "source": [
        "# Fungsi untuk menghitung windowing(hamming)\n",
        "def hamming_window(frames):\n",
        "    window = np.hamming(frames.shape[1])\n",
        "    return frames * window\n",
        "\n",
        "windowed_frames = hamming_window(frames)\n",
        "\n",
        "# Cetak Output\n",
        "print(\"Windowed Frames:\\n\", windowed_frames)"
      ],
      "metadata": {
        "colab": {
          "base_uri": "https://localhost:8080/"
        },
        "id": "-jDIr06_rHIm",
        "outputId": "bdbd0503-8ae5-4539-ff71-96266a1c5651"
      },
      "execution_count": 9,
      "outputs": [
        {
          "output_type": "stream",
          "name": "stdout",
          "text": [
            "Windowed Frames:\n",
            " [[ 0.08    0.8085 -1.463  -0.08  ]\n",
            " [-0.152  -0.77   -0.8085  0.072 ]\n",
            " [-0.084   0.693   1.5015  0.084 ]]\n"
          ]
        }
      ]
    },
    {
      "cell_type": "markdown",
      "source": [
        "Dengan mengaplikasikan hasil frames sebelumnya ke dalam windowing menggunakan fungsi Hamming, diperoleh nilai sebagai berikut:\n",
        "\n",
        "\n",
        "\n",
        "*   Windowed Frame 1: $[0.08, 0.8085, -1.463, -0.08]$\n",
        "*   Windowed Frame 2: $[-0.152, -0.77   -0.8085, 0.072]$\n",
        "*   Windowed Frame 3: $[-0.084, 0.693, 1.5015, 0.084]$\n",
        "\n"
      ],
      "metadata": {
        "id": "SudfeEiMxk1q"
      }
    },
    {
      "cell_type": "markdown",
      "source": [
        "## **Langkah 4**: FFT dan Power Spectrum"
      ],
      "metadata": {
        "id": "z4JsFRXrrp3-"
      }
    },
    {
      "cell_type": "markdown",
      "source": [
        "Formula FFT:\n",
        "$$\n",
        "X(k) = \\sum_{n=0}^{N-1} x(n) \\cdot e^{-j \\cdot 2\\pi \\cdot \\frac{k \\cdot n}{N}}\n",
        "$$\n",
        "\n",
        "Keterangan:\n",
        "\n",
        "\n",
        "*   $X(k)$ adalah nilai Fourier pada frekuensi $k$.\n",
        "*   $x(n)$ adalah nilai sinyal pada waktu $n$.\n",
        "*   $N$ adalah panjang sinyal.\n",
        "*   $k$ adalah indeks frekuensi.\n",
        "*   $j$ adalah bilangan imajiner $(j=\\sqrt(-1))$\n",
        "\n",
        "\n",
        "\n",
        "Kemudian menghitung power spectrum dengan formula berikut:\n",
        "\n",
        "$$P(f) = \\frac{1}{N} \\left| X(f) \\right|^2\n",
        "$$\n",
        "\n",
        "Keterangan:\n",
        "\n",
        "\n",
        "\n",
        "*   $P(f)$  adalah power spectrum pada frekuensi $f$\n",
        "*   $X(f)$ adalah spektrum sinyal setelah Fourier Transform\n",
        "*   $N$ adalah jumlah total sampel dalam sinyal atau panjang FFT yang digunakan.\n",
        "\n"
      ],
      "metadata": {
        "id": "odCEc0pg8fP3"
      }
    },
    {
      "cell_type": "code",
      "source": [
        "# Fungsi untuk menghitung FFT dan Power Spectrum\n",
        "def power_spectrum(frames, fft_size):\n",
        "    fft_frames = np.fft.rfft(frames, n=fft_size)  # FFT\n",
        "    power_frames = (np.abs(fft_frames) ** 2) / fft_size  # Power Spectrum\n",
        "    return fft_frames, power_frames\n",
        "\n",
        "# Data sampel windowed_frames yang diperoleh sebelumnya\n",
        "windowed_frames = np.array([\n",
        "    [0.08, 0.8085, -1.463, -0.08],\n",
        "    [-0.152, -0.77, -0.8085, 0.072],\n",
        "    [-0.084, 0.693, 1.5015, 0.084 ],\n",
        "])\n",
        "\n",
        "fft_size = 4  # Panjang FFT\n",
        "fft_frames, power_frames = power_spectrum(windowed_frames, fft_size)\n",
        "\n",
        "# Cetak hasil FFT\n",
        "print(\"FFT Frames:\\n\", fft_frames)"
      ],
      "metadata": {
        "colab": {
          "base_uri": "https://localhost:8080/"
        },
        "id": "1JM5fMI3uZk9",
        "outputId": "28d08e59-c284-443d-dfbd-d913ddee794a"
      },
      "execution_count": 21,
      "outputs": [
        {
          "output_type": "stream",
          "name": "stdout",
          "text": [
            "FFT Frames:\n",
            " [[-0.6545+0.j      1.543 -0.8885j -2.1115+0.j    ]\n",
            " [-1.6585+0.j      0.6565+0.842j  -0.2625+0.j    ]\n",
            " [ 2.1945+0.j     -1.5855-0.609j   0.6405+0.j    ]]\n"
          ]
        }
      ]
    },
    {
      "cell_type": "code",
      "source": [
        "# Cetak Power Spectrum\n",
        "print(\"\\nPower Spectrum:\\n\", power_frames)"
      ],
      "metadata": {
        "colab": {
          "base_uri": "https://localhost:8080/"
        },
        "id": "QDVeXMDKvUXm",
        "outputId": "67f2e892-885e-47ce-b8a5-b065026976c6"
      },
      "execution_count": 22,
      "outputs": [
        {
          "output_type": "stream",
          "name": "stdout",
          "text": [
            "\n",
            "Power Spectrum:\n",
            " [[0.10709256 0.79257031 1.11460806]\n",
            " [0.68765556 0.28498906 0.01722656]\n",
            " [1.20395756 0.72117281 0.10256006]]\n"
          ]
        }
      ]
    },
    {
      "cell_type": "markdown",
      "source": [
        "Dengan menggunakan FFT dengan panjang\n",
        "$𝑁 = 4$, diperoleh nilai power spectrum sebagai berikut:\n",
        "\n",
        "*   Power Spectrum 1: $[0.10709256, 0.79257031, 1.11460806]$\n",
        "*   Power Spectrum 2: $[0.68765556, 0.28498906, 0.01722656]$\n",
        "*   Power Spectrum 3: $[1.20395756, 0.72117281, 0.10256006]$\n",
        "\n"
      ],
      "metadata": {
        "id": "aQcDAr8i0ExG"
      }
    },
    {
      "cell_type": "markdown",
      "source": [
        "## **Langkah 5**: Mel Filter Bank"
      ],
      "metadata": {
        "id": "-rbzJFnksHr_"
      }
    },
    {
      "cell_type": "markdown",
      "source": [
        "Formula fungsi mel:\n",
        "$$E_m = \\sum_{k=0}^{K-1} |X_k|^2 \\cdot H_m(k)$$\n",
        "\n",
        "Keterangan:\n",
        "\n",
        "\n",
        "*   $|X_k|^2$ adalah Power spectrum dari frame.\n",
        "*   $ H_m(k)$ adalah Respons Mel filter.\n",
        "\n",
        "\n",
        "\n",
        "Dimana;\n",
        "$$H_m(k) =\n",
        "\\begin{cases}\n",
        "0 & \\text{jika } k < f(m-1) \\text{ atau } k > f(m+1) \\\\\n",
        "\\frac{k - f(m-1)}{f(m) - f(m-1)} & \\text{jika } f(m-1) \\leq k < f(m) \\\\\n",
        "\\frac{f(m+1) - k}{f(m+1) - f(m)} & \\text{jika } f(m) \\leq k \\leq f(m+1)\n",
        "\\end{cases}$$"
      ],
      "metadata": {
        "id": "4lRLtRzzN7q6"
      }
    },
    {
      "cell_type": "code",
      "source": [
        "# Fungsi untuk menghitung mel\n",
        "def mel_filter_bank(power_frames, num_filters, fft_size):\n",
        "    filters = np.zeros((num_filters, fft_size // 2 + 1))\n",
        "    filters[0, 1:3] = [1, 0.5]  # Filter 1\n",
        "    filters[1, 1:3] = [0.5, 1]  # Filter 2\n",
        "    energies = np.dot(power_frames, filters.T)\n",
        "    return energies\n",
        "\n",
        "mel_energies = mel_filter_bank(power_frames, num_filters, fft_size)\n",
        "\n",
        "# Cetak Output\n",
        "print(\"Mel Filter Energies:\\n\", mel_energies)"
      ],
      "metadata": {
        "colab": {
          "base_uri": "https://localhost:8080/"
        },
        "id": "Ood0S9fvsG5D",
        "outputId": "717f7198-ba36-404f-bea7-b351a9de0787"
      },
      "execution_count": 12,
      "outputs": [
        {
          "output_type": "stream",
          "name": "stdout",
          "text": [
            "Mel Filter Energies:\n",
            " [[1.34987434 1.51089322]\n",
            " [0.29360234 0.15972109]\n",
            " [0.77245284 0.46314647]]\n"
          ]
        }
      ]
    },
    {
      "cell_type": "markdown",
      "source": [
        "Dengan menggunakan filter 1: $[1, 0.5]$ dan filter 2: $[0.5, 1]$ diperoleh mel filter energies dengan menghitung energi untuk setiap frame sebagai berikut:\n",
        "\n",
        "\n",
        "\n",
        "*   Mel Filter Energies 1: $[1.34987434, 1.51089322]$\n",
        "*   Mel Filter Energies 2: $[0.29360234, 0.15972109]$\n",
        "*   Mel Filter Energies 3: $[0.77245284, 0.46314647]$\n",
        "\n"
      ],
      "metadata": {
        "id": "qepFhUwT13is"
      }
    },
    {
      "cell_type": "markdown",
      "source": [
        "## **Langkah 6**: Log Energies"
      ],
      "metadata": {
        "id": "lSTfNGOAtsCF"
      }
    },
    {
      "cell_type": "markdown",
      "source": [
        "Formula log energies:\n",
        "\n",
        "$$E_{\\text{log}}(f) = \\log(P(f) + \\epsilon)\n",
        "$$\n",
        "\n",
        "Keterangan:\n",
        "\n",
        "\n",
        "\n",
        "*   $E_{\\text{log}}(f)$ adalah logaritma energi pada frekuensi $f$.\n",
        "\n",
        "*   $P(f)$ adalah power spectrum pada frekuensi $f$.\n",
        "*   $\\epsilon$ adalah nilai kecil yang ditambahkan untuk menghindari logaritma dari nol.\n",
        "\n"
      ],
      "metadata": {
        "id": "8ld9Wntq9810"
      }
    },
    {
      "cell_type": "code",
      "source": [
        "# Fungsi untuk menghitung log energies\n",
        "log_energies = np.log(mel_energies + 1e-8)  # Tambahkan epsilon untuk menghindari log(0)\n",
        "\n",
        "# Cetak Output\n",
        "print(\"Log Energies:\\n\", log_energies)"
      ],
      "metadata": {
        "colab": {
          "base_uri": "https://localhost:8080/"
        },
        "id": "7DKs3PujtqHE",
        "outputId": "7991ed7e-3d2f-43a4-9829-956e6dc11539"
      },
      "execution_count": 13,
      "outputs": [
        {
          "output_type": "stream",
          "name": "stdout",
          "text": [
            "Log Energies:\n",
            " [[ 0.30001152  0.41270102]\n",
            " [-1.22552897 -1.83432609]\n",
            " [-0.2581843  -0.76971191]]\n"
          ]
        }
      ]
    },
    {
      "cell_type": "markdown",
      "source": [
        "Diperoleh log energies untuk setiap frame sebagai berikut:\n",
        "\n",
        "\n",
        "\n",
        "*   Log Energies 1: $[ 0.30001152, 0.41270102]$\n",
        "*   Log Energies 2: $[-1.22552897, -1.83432609]$\n",
        "*   Log Energies 3: $[-0.2581843, -0.76971191]$\n",
        "\n"
      ],
      "metadata": {
        "id": "Vpoo6w1C3HR-"
      }
    },
    {
      "cell_type": "markdown",
      "source": [
        "## **Langkah 7**: DCT"
      ],
      "metadata": {
        "id": "IG5gIpjluCPN"
      }
    },
    {
      "cell_type": "markdown",
      "source": [
        "Formula Discrete Consine Transform (DCT) tipe II yagn digunakan untuk menghitung koefisien MFCC sebagai berikut:\n",
        "$$C_k = \\sum_{n=0}^{N-1} x_n \\cdot \\cos\\left(\\frac{\\pi}{N} \\cdot \\left(n + \\frac{1}{2}\\right) \\cdot k\\right)$$\n",
        "\n",
        "Keterangan:\n",
        "\n",
        "\n",
        "\n",
        "*   $C_k$ adalah koefisien DCT ke-$k$\n",
        "*   $x_n$ adalah nilai input (log energi pada filter bank mel) untuk indeks $n$.\n",
        "*   $N$ adalah jumlah elemen dalam input $x$.\n",
        "*   $k$ adalah indeks koefisien DCT $(0 ≤ k < N)$.\n",
        "\n",
        "\n",
        "\n"
      ],
      "metadata": {
        "id": "YYqDtlAj-Dr1"
      }
    },
    {
      "cell_type": "code",
      "source": [
        "# Fungsi untuk menghitung DCT\n",
        "def dct_transform(log_energies, num_cepstral):\n",
        "    return dct(log_energies, type=2, axis=1, norm='ortho')[:, :num_cepstral]\n",
        "\n",
        "num_cepstral = 2  # Ambil 2 koefisien pertama\n",
        "mfcc = dct_transform(log_energies, num_cepstral)\n",
        "\n",
        "\n",
        "# Cetak Output\n",
        "print(\"MFCC:\\n\", mfcc)"
      ],
      "metadata": {
        "colab": {
          "base_uri": "https://localhost:8080/"
        },
        "id": "TW9W0pgdt-wv",
        "outputId": "3a132606-7a44-4c97-c86e-6a57a1e3e42f"
      },
      "execution_count": 14,
      "outputs": [
        {
          "output_type": "stream",
          "name": "stdout",
          "text": [
            "MFCC:\n",
            " [[ 0.50396387 -0.07968351]\n",
            " [-2.16364426  0.43048457]\n",
            " [-0.72683238  0.36170464]]\n"
          ]
        }
      ]
    },
    {
      "cell_type": "markdown",
      "source": [
        "Terakhir, diperolehlah nilai DCT dengan mengambil 2 koefisien pertama sebagai berikut:\n",
        "\n",
        "\n",
        "\n",
        "*   MFCC Frame 1: $[ 0.50396387, -0.07968351]$\n",
        "*   MFCC Frame 2: $[-2.16364426, 0.43048457]$\n",
        "*   MFCC Frame 3: $[-0.72683238, 0.36170464]$\n",
        "\n",
        "\n",
        "\n"
      ],
      "metadata": {
        "id": "crleizMv4mCJ"
      }
    }
  ]
}